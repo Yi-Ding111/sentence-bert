{
 "cells": [
  {
   "cell_type": "code",
   "execution_count": null,
   "metadata": {
    "vscode": {
     "languageId": "shellscript"
    }
   },
   "outputs": [],
   "source": [
    "!pip3 install -U sentence-transformers\n",
    "!pip3 install -U huggingface_hub "
   ]
  },
  {
   "cell_type": "code",
   "execution_count": 1,
   "metadata": {},
   "outputs": [],
   "source": [
    "import pandas as pd\n",
    "import numpy as np"
   ]
  },
  {
   "cell_type": "code",
   "execution_count": 2,
   "metadata": {},
   "outputs": [],
   "source": [
    "from sentence_transformers import SentenceTransformer, util"
   ]
  },
  {
   "cell_type": "code",
   "execution_count": 3,
   "metadata": {},
   "outputs": [],
   "source": [
    "# read twitter user names and ids as dict\n",
    "# the id as dict key and the mapped name as dict value\n",
    "\n",
    "twitter_ids_df=pd.read_csv('./twitter_id.txt',header=0)\n",
    "\n",
    "twitter_ids_df=twitter_ids_df.dropna(subset=['twitter_userid'])\n",
    "\n",
    "name_id_dict=pd.Series(twitter_ids_df.name.values, index=twitter_ids_df.twitter_userid).to_dict()"
   ]
  },
  {
   "cell_type": "code",
   "execution_count": 4,
   "metadata": {},
   "outputs": [],
   "source": [
    "# name_id_dict"
   ]
  },
  {
   "cell_type": "code",
   "execution_count": 6,
   "metadata": {},
   "outputs": [],
   "source": [
    "embedded_vecs=pd.read_csv('./preprocess/twitter_embedded_cevs.csv',header=0)"
   ]
  },
  {
   "cell_type": "code",
   "execution_count": 7,
   "metadata": {},
   "outputs": [],
   "source": [
    "# display(embedded_vecs)"
   ]
  },
  {
   "cell_type": "code",
   "execution_count": 8,
   "metadata": {},
   "outputs": [],
   "source": [
    "def similarity_calc(embedded_vecs, user_id) -> zip:\n",
    "    \"\"\"\n",
    "    \"\"\"\n",
    "    try:\n",
    "        if int(user_id) in embedded_vecs['user_id'].values: \n",
    "            user_df = embedded_vecs[embedded_vecs['user_id'] == user_id]\n",
    "        \n",
    "        # Calculate similarity based on cosine\n",
    "        cos_sim_results = np.squeeze(\n",
    "            util.cos_sim(user_df.iloc[:, 1:].values.astype(np.float32), embedded_vecs.iloc[:, 1:].values.astype(np.float32)).numpy())\n",
    "\n",
    "        top_user_dict = zip(embedded_vecs.iloc[:, 0], cos_sim_results)\n",
    "\n",
    "    except Exception as e:\n",
    "\n",
    "        print(e)\n",
    "\n",
    "    else:\n",
    "        return top_user_dict"
   ]
  },
  {
   "cell_type": "code",
   "execution_count": 9,
   "metadata": {},
   "outputs": [],
   "source": [
    "# calculate the top 10 most similar accounts\n",
    "\n",
    "def top_10_accounts(embedded_vecs,user_id):\n",
    "\n",
    "    top_user_dict = similarity_calc(embedded_vecs=embedded_vecs,user_id=user_id) \n",
    "\n",
    "    # sort the IDs with similarity scores\n",
    "    results = sorted(top_user_dict, key=lambda item: item[1], reverse=True)[1:11]\n",
    "\n",
    "    result_df = pd.DataFrame(results, columns=['twitter_id', 'similarity'])\n",
    "\n",
    "    ids = list(map(int, list(name_id_dict.keys())))\n",
    "\n",
    "    for idx, row in result_df.iterrows():\n",
    "        if row['twitter_id'] in ids:\n",
    "            result_df.at[idx, 'user_name'] = name_id_dict[float(row['twitter_id'])]\n",
    "        \n",
    "    return result_df"
   ]
  },
  {
   "cell_type": "code",
   "execution_count": 10,
   "metadata": {},
   "outputs": [],
   "source": [
    "user_id=27260086\n",
    "result_df=top_10_accounts(embedded_vecs=embedded_vecs,user_id=user_id)"
   ]
  },
  {
   "cell_type": "code",
   "execution_count": 11,
   "metadata": {},
   "outputs": [
    {
     "data": {
      "text/html": [
       "<div>\n",
       "<style scoped>\n",
       "    .dataframe tbody tr th:only-of-type {\n",
       "        vertical-align: middle;\n",
       "    }\n",
       "\n",
       "    .dataframe tbody tr th {\n",
       "        vertical-align: top;\n",
       "    }\n",
       "\n",
       "    .dataframe thead th {\n",
       "        text-align: right;\n",
       "    }\n",
       "</style>\n",
       "<table border=\"1\" class=\"dataframe\">\n",
       "  <thead>\n",
       "    <tr style=\"text-align: right;\">\n",
       "      <th></th>\n",
       "      <th>twitter_id</th>\n",
       "      <th>similarity</th>\n",
       "      <th>user_name</th>\n",
       "    </tr>\n",
       "  </thead>\n",
       "  <tbody>\n",
       "    <tr>\n",
       "      <th>0</th>\n",
       "      <td>40908929</td>\n",
       "      <td>0.969320</td>\n",
       "      <td>Usher Raymond IV</td>\n",
       "    </tr>\n",
       "    <tr>\n",
       "      <th>1</th>\n",
       "      <td>79650494</td>\n",
       "      <td>0.945055</td>\n",
       "      <td>Cody Simpson</td>\n",
       "    </tr>\n",
       "    <tr>\n",
       "      <th>2</th>\n",
       "      <td>23561980</td>\n",
       "      <td>0.943971</td>\n",
       "      <td>Kendrick Lamar</td>\n",
       "    </tr>\n",
       "    <tr>\n",
       "      <th>3</th>\n",
       "      <td>22548403</td>\n",
       "      <td>0.941952</td>\n",
       "      <td>Tom Felton</td>\n",
       "    </tr>\n",
       "    <tr>\n",
       "      <th>4</th>\n",
       "      <td>27195114</td>\n",
       "      <td>0.941063</td>\n",
       "      <td>Drizzy</td>\n",
       "    </tr>\n",
       "    <tr>\n",
       "      <th>5</th>\n",
       "      <td>119509520</td>\n",
       "      <td>0.938085</td>\n",
       "      <td>Chris Brown</td>\n",
       "    </tr>\n",
       "    <tr>\n",
       "      <th>6</th>\n",
       "      <td>25421094</td>\n",
       "      <td>0.932922</td>\n",
       "      <td>AKON</td>\n",
       "    </tr>\n",
       "    <tr>\n",
       "      <th>7</th>\n",
       "      <td>264107729</td>\n",
       "      <td>0.932102</td>\n",
       "      <td>5 Seconds of Summer</td>\n",
       "    </tr>\n",
       "    <tr>\n",
       "      <th>8</th>\n",
       "      <td>255388236</td>\n",
       "      <td>0.930893</td>\n",
       "      <td>The Weeknd</td>\n",
       "    </tr>\n",
       "    <tr>\n",
       "      <th>9</th>\n",
       "      <td>33597201</td>\n",
       "      <td>0.929589</td>\n",
       "      <td>Ashley Benson</td>\n",
       "    </tr>\n",
       "  </tbody>\n",
       "</table>\n",
       "</div>"
      ],
      "text/plain": [
       "   twitter_id  similarity            user_name\n",
       "0    40908929    0.969320     Usher Raymond IV\n",
       "1    79650494    0.945055         Cody Simpson\n",
       "2    23561980    0.943971       Kendrick Lamar\n",
       "3    22548403    0.941952           Tom Felton\n",
       "4    27195114    0.941063               Drizzy\n",
       "5   119509520    0.938085          Chris Brown\n",
       "6    25421094    0.932922                 AKON\n",
       "7   264107729    0.932102  5 Seconds of Summer\n",
       "8   255388236    0.930893           The Weeknd\n",
       "9    33597201    0.929589        Ashley Benson"
      ]
     },
     "execution_count": 11,
     "metadata": {},
     "output_type": "execute_result"
    }
   ],
   "source": [
    "result_df"
   ]
  },
  {
   "cell_type": "code",
   "execution_count": null,
   "metadata": {},
   "outputs": [],
   "source": []
  }
 ],
 "metadata": {
  "kernelspec": {
   "display_name": "Python 3",
   "language": "python",
   "name": "python3"
  },
  "language_info": {
   "codemirror_mode": {
    "name": "ipython",
    "version": 3
   },
   "file_extension": ".py",
   "mimetype": "text/x-python",
   "name": "python",
   "nbconvert_exporter": "python",
   "pygments_lexer": "ipython3",
   "version": "3.8.3"
  },
  "orig_nbformat": 4
 },
 "nbformat": 4,
 "nbformat_minor": 2
}
